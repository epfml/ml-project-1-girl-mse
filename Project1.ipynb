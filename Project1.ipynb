{
 "cells": [
  {
   "cell_type": "markdown",
   "id": "1b930523-c9c4-4b69-a5e0-44e3caa05b2b",
   "metadata": {},
   "source": [
    "# Loading the data\n",
    "\n",
    "First, we are going to load the data that we'll feed to our alorithm in order for it to learn. We have 3 .csv files to import: <br> *x_train.csv*, *x_test.csv* and *y_train.csv*."
   ]
  },
  {
   "cell_type": "code",
   "execution_count": 1,
   "id": "21237998-1a1c-4363-bb8d-16b0c387c912",
   "metadata": {},
   "outputs": [],
   "source": [
    "import numpy as np\n",
    "import matplotlib.pyplot as plt\n",
    "from helpers import *\n",
    "\n",
    "x_train, x_test, y_train, train_ids, test_ids = load_csv_data(\"/Users/sarazatezalo/Documents/EPFL/semester 1/ML_course/projects/project1/data/dataset_to_release 2\")"
   ]
  },
  {
   "cell_type": "code",
   "execution_count": 2,
   "id": "d1519b18",
   "metadata": {},
   "outputs": [],
   "source": [
    "from preprocessing import preprocess_data\n",
    "from implementations import *\n",
    "from utils import *"
   ]
  },
  {
   "cell_type": "code",
   "execution_count": 3,
   "id": "693c6261",
   "metadata": {},
   "outputs": [
    {
     "name": "stdout",
     "output_type": "stream",
     "text": [
      "Best accuracy on 5-fold:  0.866621969616164\n",
      "Best F1 score on 5-fold for class 1  0.39011142838043583\n"
     ]
    }
   ],
   "source": [
    "# Predictions using logistic regression!\n",
    "\n",
    "gammas = np.logspace(-5, -1, 3)\n",
    "lambdas = np.logspace(-4, -1, 3)\n",
    "\n",
    "x_train_pp, x_test_pp, y_train_pp = preprocess_data(x_train, y_train, x_test, neg_label=0)\n",
    "initial_w = np.zeros((x_train_pp.shape[1],))\n",
    "k_fold = 5\n",
    "max_iters = 25\n",
    "\n",
    "best_lambda, best_gamma, best_acc, best_weights, best_f1 = best_cv_log_reg(y_train_pp, x_train_pp, k_fold, lambdas, gammas, max_iters)\n",
    "\n",
    "print(f'Best accuracy on {k_fold}-fold: ', best_acc)\n",
    "print(f'Best F1 score on {k_fold}-fold for class 1 ', best_f1)\n"
   ]
  },
  {
   "cell_type": "code",
   "execution_count": 6,
   "id": "5ece2879",
   "metadata": {},
   "outputs": [
    {
     "name": "stdout",
     "output_type": "stream",
     "text": [
      "Best lambda is: 0.0001\n",
      "Best gamma is:  0.1\n"
     ]
    }
   ],
   "source": [
    "print('Best lambda is:', best_lambda)\n",
    "print('Best gamma is: ', best_gamma)\n"
   ]
  },
  {
   "cell_type": "code",
   "execution_count": 7,
   "id": "2dcded54",
   "metadata": {},
   "outputs": [
    {
     "name": "stdout",
     "output_type": "stream",
     "text": [
      "(109379,)\n"
     ]
    }
   ],
   "source": [
    "# Prediction using best parameters and ridge logistic regression\n",
    "y_prediction = np.array([-1 if sigmoid(x.T @ best_weights) < 0.5 else 1 for x in x_test_pp])\n",
    "print(y_prediction.shape)"
   ]
  },
  {
   "cell_type": "code",
   "execution_count": 8,
   "id": "c1f781b1",
   "metadata": {},
   "outputs": [
    {
     "name": "stdout",
     "output_type": "stream",
     "text": [
      "There are this much -1s:  93246\n",
      "There are this much 1s:  16133\n"
     ]
    }
   ],
   "source": [
    "print('There are this much -1s: ', np.sum((y_prediction==-1).astype(int)))\n",
    "print('There are this much 1s: ', np.sum((y_prediction==1).astype(int)))\n"
   ]
  },
  {
   "cell_type": "code",
   "execution_count": 18,
   "id": "fb19e6c6",
   "metadata": {},
   "outputs": [
    {
     "name": "stdout",
     "output_type": "stream",
     "text": [
      "(328135, 81)\n",
      "(57950, 81)\n",
      "Accuracy on train test for our weights is:  0.7264193270060397\n",
      "F1 score on train test for our best weights is:  0.6733020112100231\n",
      "F1 score on train test for our best weights is:  0.7646796888915276\n"
     ]
    }
   ],
   "source": [
    "gamma = 0.001\n",
    "max_iters = 2000\n",
    "lambda_ = 1e-2\n",
    "x_train_pp, x_test_pp, y_train_pp = preprocess_data(x_train, y_train, x_test, neg_label=0)\n",
    "initial_w = np.random.normal(0, 0.01, size=(x_train_pp.shape[1],))\n",
    "w, loss = reg_logistic_regression(y_train_pp, x_train_pp, lambda_, initial_w, max_iters, gamma)\n",
    "\n",
    "y_tr_pred = np.array([0 if sigmoid(x.T @ w) < 0.5 else 1 for x in x_train_pp])\n",
    "print('Accuracy on train test for our weights is: ', accuracy_score(y_tr_pred, y_train_pp))\n",
    "print('F1 score on train test for our best weights is: ', f1_score(y_tr_pred, y_train_pp, 0))\n",
    "print('F1 score on train test for our best weights is: ', f1_score(y_tr_pred, y_train_pp))"
   ]
  },
  {
   "cell_type": "code",
   "execution_count": 9,
   "id": "5fae58d5",
   "metadata": {},
   "outputs": [],
   "source": [
    "create_csv_submission(test_ids, y_prediction, \"prediction_17.csv\")"
   ]
  },
  {
   "cell_type": "code",
   "execution_count": 3,
   "id": "7569a73a",
   "metadata": {},
   "outputs": [
    {
     "name": "stdout",
     "output_type": "stream",
     "text": [
      "Accuracy on KFold for the best model:  0.9068188398067868\n",
      "F1 on KFold for the best model:  0.2784634321651367\n"
     ]
    }
   ],
   "source": [
    "x_train_pp, x_test_pp, y_train_pp = preprocess_data(x_train, y_train, x_test, neg_label=-1)\n",
    "lambdas = np.logspace(-4, 0, 10)\n",
    "k_fold = 5\n",
    "best_lambda, best_acc, best_weights, best_f1 = best_cv_ridge_reg(y_train_pp, x_train_pp, k_fold, lambdas)\n",
    "y_train_prediction = np.array([-1 if x.T @ best_weights < 0 else 1 for x in x_train_pp])\n",
    "\n",
    "print('Accuracy on KFold for the best model: ', best_acc)\n",
    "print('F1 on KFold for the best model: ', best_f1)\n"
   ]
  }
 ],
 "metadata": {
  "kernelspec": {
   "display_name": "Python 3 (ipykernel)",
   "language": "python",
   "name": "python3"
  },
  "language_info": {
   "codemirror_mode": {
    "name": "ipython",
    "version": 3
   },
   "file_extension": ".py",
   "mimetype": "text/x-python",
   "name": "python",
   "nbconvert_exporter": "python",
   "pygments_lexer": "ipython3",
   "version": "3.10.8"
  }
 },
 "nbformat": 4,
 "nbformat_minor": 5
}
