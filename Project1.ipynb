{
 "cells": [
  {
   "cell_type": "markdown",
   "id": "1b930523-c9c4-4b69-a5e0-44e3caa05b2b",
   "metadata": {},
   "source": [
    "# Loading the data\n",
    "\n",
    "First, we are going to load the data that we'll feed to our alorithm in order for it to learn. We have 3 .csv files to import: <br> *x_train.csv*, *x_test.csv* and *y_train.csv*."
   ]
  },
  {
   "cell_type": "code",
   "execution_count": 1,
   "id": "21237998-1a1c-4363-bb8d-16b0c387c912",
   "metadata": {},
   "outputs": [],
   "source": [
    "import numpy as np\n",
    "import matplotlib.pyplot as plt\n",
    "from helpers import *\n",
    "\n",
    "x_train, x_test, y_train, train_ids, test_ids = load_csv_data(\"/Users/sarazatezalo/Documents/EPFL/semester 1/ML_course/projects/project1/data/dataset_to_release\")"
   ]
  },
  {
   "cell_type": "code",
   "execution_count": 23,
   "id": "746cd8f3-9c64-41c8-b127-5cca3c1eec68",
   "metadata": {},
   "outputs": [],
   "source": [
    "# We should standardize the data to prevent the gradient from exploding \n",
    "x_train = (x_train - np.mean(x_train, axis=0))/np.std(x_train, axis=0)"
   ]
  },
  {
   "cell_type": "code",
   "execution_count": 2,
   "id": "d1519b18",
   "metadata": {},
   "outputs": [],
   "source": [
    "from preprocessing import preprocess_data\n",
    "from implementations import *"
   ]
  },
  {
   "cell_type": "code",
   "execution_count": 9,
   "id": "c0898330",
   "metadata": {},
   "outputs": [],
   "source": [
    "# Data preprocessing\n",
    "x_train_pp, x_test_pp, y_train_pp, y_test_pp = preprocess_data(x_train, y_train, x_test)\n",
    "\n",
    "initial_w = np.random.normal(0, 0.01, size=(x_train_pp.shape[1],))\n",
    "gamma = 0.01\n",
    "max_iters = 200\n",
    "w, loss = logistic_regression(y_train_pp, x_train_pp, initial_w, max_iters, gamma)\n",
    "y_prediction = np.array([-1 if sigmoid(x.T @ w) < 0.5 else 1 for x in x_test_pp])"
   ]
  },
  {
   "cell_type": "code",
   "execution_count": 10,
   "id": "5fae58d5",
   "metadata": {},
   "outputs": [],
   "source": [
    "create_csv_submission(test_ids, y_prediction, \"prediction_00.csv\")"
   ]
  }
 ],
 "metadata": {
  "kernelspec": {
   "display_name": "Python 3 (ipykernel)",
   "language": "python",
   "name": "python3"
  },
  "language_info": {
   "codemirror_mode": {
    "name": "ipython",
    "version": 3
   },
   "file_extension": ".py",
   "mimetype": "text/x-python",
   "name": "python",
   "nbconvert_exporter": "python",
   "pygments_lexer": "ipython3",
   "version": "3.10.8"
  }
 },
 "nbformat": 4,
 "nbformat_minor": 5
}
